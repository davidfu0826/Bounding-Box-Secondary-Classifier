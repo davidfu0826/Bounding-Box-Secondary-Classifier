{
 "cells": [
  {
   "cell_type": "code",
   "execution_count": 88,
   "metadata": {},
   "outputs": [],
   "source": [
    "import os\n",
    "import glob\n",
    "import json\n",
    "\n",
    "import cv2\n",
    "import matplotlib.pyplot as plt\n",
    "from tqdm.notebook import tqdm\n",
    "\n",
    "%matplotlib inline"
   ]
  },
  {
   "cell_type": "code",
   "execution_count": 75,
   "metadata": {},
   "outputs": [],
   "source": [
    "# Find images\n",
    "path_to_imgs = \"../../../Datasets/Swedish_Traffic_Signs/Set1Part1/\"\n",
    "img_paths = glob.glob(path_to_imgs + \"*.jpg\")\n",
    "with open(\"path_to_images.txt\", \"w\") as f:\n",
    "    for img_path in img_paths:\n",
    "        f.write(img_path + \"\\n\")"
   ]
  },
  {
   "cell_type": "code",
   "execution_count": 76,
   "metadata": {},
   "outputs": [],
   "source": [
    "# Find prediction file\n",
    "path_to_annots = \"../../../Datasets/Swedish_Traffic_Signs/big_images_predictions.json\"\n",
    "with open(path_to_annots) as f:\n",
    "    annotations = json.load(f)[\"Set1Part1\"]"
   ]
  },
  {
   "cell_type": "code",
   "execution_count": 79,
   "metadata": {},
   "outputs": [
    {
     "data": {
      "text/plain": [
       "-1"
      ]
     },
     "execution_count": 79,
     "metadata": {},
     "output_type": "execute_result"
    }
   ],
   "source": [
    "# Let's display an image with bounding boxes\n",
    "with open(\"path_to_images.txt\", \"r\") as f:\n",
    "    lines = f.readlines()\n",
    "    img_paths = [line.replace(\"\\n\", \"\") for line in lines]\n",
    "\n",
    "img_path = img_paths[0]\n",
    "\n",
    "img = cv2.imread(img_path)\n",
    "img_filename = os.path.basename(img_path)\n",
    "annotation = annotations[img_filename]\n",
    "\n",
    "# Display options\n",
    "text_font = 0\n",
    "text_fontsize = 3\n",
    "text_font_thickness = 4\n",
    "text_color = (0,255,0)\n",
    "\n",
    "for bbox in annotation:\n",
    "    pt1 = tuple([int(coord) for coord in bbox[\"top-left\"]])\n",
    "    pt2 = tuple([int(coord) for coord in bbox[\"bottom-right\"]])\n",
    "    \n",
    "    img = cv2.putText(img, bbox[\"label\"], pt1, text_font, text_fontsize, text_color, text_font_thickness)\n",
    "    img = cv2.rectangle(img, pt1, pt2, (0, 255, 0), 4)\n",
    "    \n",
    "cv2.namedWindow('image', cv2.WINDOW_NORMAL)\n",
    "cv2.resizeWindow('image', 300,300)\n",
    "cv2.imshow(\"image\", img)\n",
    "cv2.waitKey()"
   ]
  },
  {
   "cell_type": "code",
   "execution_count": 89,
   "metadata": {},
   "outputs": [
    {
     "data": {
      "application/vnd.jupyter.widget-view+json": {
       "model_id": "56ae110a56ff43ce998555880a694b0d",
       "version_major": 2,
       "version_minor": 0
      },
      "text/plain": [
       "HBox(children=(FloatProgress(value=0.0, max=2000.0), HTML(value='')))"
      ]
     },
     "metadata": {},
     "output_type": "display_data"
    },
    {
     "name": "stdout",
     "output_type": "stream",
     "text": [
      "\n"
     ]
    }
   ],
   "source": [
    "# Cropp images\n",
    "# Let's display an image with bounding boxes\n",
    "img_path = img_paths[0]\n",
    "crop_idx = 0\n",
    "save_directory = \n",
    "\n",
    "for img_path in tqdm(img_paths):\n",
    "    \n",
    "    if os.path.isfile(img_path):\n",
    "        img = cv2.imread(img_path)\n",
    "        img_filename = os.path.basename(img_path)\n",
    "        annotation = annotations.get(img_filename)\n",
    "\n",
    "        # If annotation for this image does not exist\n",
    "        if annotation is not None:\n",
    "            for bbox in annotation:\n",
    "                pt1 = bbox[\"top-left\"]\n",
    "                pt2 = bbox[\"bottom-right\"]\n",
    "\n",
    "                cropped_img = img[pt1[1]:pt2[1], pt1[0]:pt2[0]]\n",
    "\n",
    "                index = f\"{crop_idx}\".rjust(5, \"0\")\n",
    "                save_path = os.path.join(save_directory, f\"frame{index}.jpg\")\n",
    "                success = cv2.imwrite(save_path, cropped_img)\n",
    "                if not success:\n",
    "                    raise Error()\n",
    "                else:\n",
    "                    crop_idx += 1"
   ]
  },
  {
   "cell_type": "code",
   "execution_count": null,
   "metadata": {},
   "outputs": [],
   "source": []
  }
 ],
 "metadata": {
  "kernelspec": {
   "display_name": "Python 3.7.6 64-bit ('pytorch_env': conda)",
   "language": "python",
   "name": "python37664bitpytorchenvconda1407470c5e9c46dcb1291cf6c21e8040"
  },
  "language_info": {
   "codemirror_mode": {
    "name": "ipython",
    "version": 3
   },
   "file_extension": ".py",
   "mimetype": "text/x-python",
   "name": "python",
   "nbconvert_exporter": "python",
   "pygments_lexer": "ipython3",
   "version": "3.7.6"
  }
 },
 "nbformat": 4,
 "nbformat_minor": 4
}
