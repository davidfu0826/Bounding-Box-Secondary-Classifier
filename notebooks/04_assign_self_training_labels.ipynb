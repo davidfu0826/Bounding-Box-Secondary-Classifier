{
 "cells": [
  {
   "cell_type": "code",
   "execution_count": 24,
   "metadata": {},
   "outputs": [],
   "source": [
    "import os\n",
    "import json"
   ]
  },
  {
   "cell_type": "code",
   "execution_count": 15,
   "metadata": {},
   "outputs": [],
   "source": [
    "with open(\"../results/results.txt\") as f:\n",
    "    lines = f.readlines()\n",
    "    \n",
    "    # 0. framename 1. secondary prediction\n",
    "    predictions = [line.replace(\"\\n\", \"\").split(\" \") for line in lines]\n",
    "\n",
    "with open(\"../results/bbox_metadata.txt\") as f:\n",
    "    lines = f.readlines()\n",
    "    \n",
    "    # 0. filename 1. framename 2. bbox idx\n",
    "    metadata = [line.replace(\"\\n\", \"\").split(\" \") for line in lines]"
   ]
  },
  {
   "cell_type": "code",
   "execution_count": 17,
   "metadata": {},
   "outputs": [],
   "source": [
    "for i, (img_filename, frame_filename, bbox_idx) in enumerate(metadata):\n",
    "    \n",
    "    prediction = predictions[i]\n",
    "    assert prediction[0] == frame_filename\n",
    "    metadata[i].append(prediction[1])"
   ]
  },
  {
   "cell_type": "code",
   "execution_count": 28,
   "metadata": {},
   "outputs": [],
   "source": [
    "with open(\"../example/example_annotation.json\") as f:\n",
    "    annotations = json.load(f)"
   ]
  },
  {
   "cell_type": "code",
   "execution_count": 37,
   "metadata": {},
   "outputs": [],
   "source": [
    "# Put the new labels into the annotation files\n",
    "for img_filename, _, bbox_id, label in metadata:\n",
    "    annotations[img_filename][int(bbox_id)] = label"
   ]
  },
  {
   "cell_type": "code",
   "execution_count": 39,
   "metadata": {},
   "outputs": [],
   "source": [
    "with open(\"../results/new_annotations.json\", \"w\") as f:\n",
    "    json.dump(annotations, f)"
   ]
  },
  {
   "cell_type": "code",
   "execution_count": null,
   "metadata": {},
   "outputs": [],
   "source": []
  }
 ],
 "metadata": {
  "kernelspec": {
   "display_name": "Python 3.7.6 64-bit ('pytorch_env': conda)",
   "language": "python",
   "name": "python37664bitpytorchenvconda1407470c5e9c46dcb1291cf6c21e8040"
  },
  "language_info": {
   "codemirror_mode": {
    "name": "ipython",
    "version": 3
   },
   "file_extension": ".py",
   "mimetype": "text/x-python",
   "name": "python",
   "nbconvert_exporter": "python",
   "pygments_lexer": "ipython3",
   "version": "3.7.6"
  }
 },
 "nbformat": 4,
 "nbformat_minor": 4
}
